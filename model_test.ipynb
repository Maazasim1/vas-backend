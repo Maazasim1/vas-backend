{
 "cells": [
  {
   "cell_type": "code",
   "execution_count": 1,
   "metadata": {},
   "outputs": [
    {
     "name": "stderr",
     "output_type": "stream",
     "text": [
      "d:\\Visium\\vas-backend\\.conda\\lib\\site-packages\\tqdm\\auto.py:21: TqdmWarning: IProgress not found. Please update jupyter and ipywidgets. See https://ipywidgets.readthedocs.io/en/stable/user_install.html\n",
      "  from .autonotebook import tqdm as notebook_tqdm\n"
     ]
    }
   ],
   "source": [
    "from ultralytics import YOLO\n",
    "import cv2\n",
    "from facenet_pytorch import InceptionResnetV1, MTCNN\n",
    "from services.embeddings import extract_embeddings, compare_embeddings\n",
    "from services.utils import face_detection\n",
    "from PIL import Image, ExifTags\n",
    "import torch\n",
    "from torchvision import transforms\n",
    "import numpy as np"
   ]
  },
  {
   "cell_type": "code",
   "execution_count": 2,
   "metadata": {},
   "outputs": [],
   "source": [
    "resnet = InceptionResnetV1(pretrained='casia-webface').eval()\n",
    "preprocess = transforms.Compose([\n",
    "    transforms.Resize((160,160)),\n",
    "    transforms.ToTensor(),\n",
    "    transforms.Normalize(mean=[0.5,0.5,0.5], std=[0.5,0.5,0.5]),\n",
    "])\n",
    "\n",
    "def get_embeddings(face):\n",
    "    if isinstance(face, np.ndarray):\n",
    "        face = cv2.cvtColor(face, cv2.COLOR_BGR2RGB)\n",
    "        face = Image.fromarray(face)\n",
    "    \n",
    "    face_tensor = preprocess(face)\n",
    "    face_tensor = face_tensor.unsqueeze(0)\n",
    "    \n",
    "    with torch.no_grad():\n",
    "        embeddings = resnet(face_tensor)\n",
    "    \n",
    "    return embeddings"
   ]
  },
  {
   "cell_type": "code",
   "execution_count": 3,
   "metadata": {},
   "outputs": [],
   "source": [
    "cap = cv2.VideoCapture(0)\n",
    "count = 0\n",
    "while True:\n",
    "    ret, img = cap.read()\n",
    "    \n",
    "    if ret == True:\n",
    "        count+=1\n",
    "    else:\n",
    "        continue\n",
    "    \n",
    "    if count == 30:\n",
    "        break\n",
    "    \n",
    "cap.release()"
   ]
  },
  {
   "cell_type": "code",
   "execution_count": 4,
   "metadata": {},
   "outputs": [
    {
     "name": "stdout",
     "output_type": "stream",
     "text": [
      "\n",
      "0: 480x640 1 face, 162.8ms\n",
      "Speed: 4.7ms preprocess, 162.8ms inference, 1.0ms postprocess per image at shape (1, 3, 480, 640)\n"
     ]
    }
   ],
   "source": [
    "model = YOLO(\"Models/faceDetection/face_detection.pt\")\n",
    "\n",
    "results = model.predict(img, conf=0.4)\n",
    "\n",
    "results = results[0]\n",
    "\n",
    "bboxes = face_detection(results)\n",
    "\n",
    "for box in bboxes:\n",
    "    x1, y1, x2, y2 = box[0], box[1], box[2], box[3]\n",
    "    face = img[int(y1):int(y2), int(x1):int(x2)]\n",
    "    emb = get_embeddings(face)"
   ]
  },
  {
   "cell_type": "code",
   "execution_count": 5,
   "metadata": {},
   "outputs": [
    {
     "name": "stdout",
     "output_type": "stream",
     "text": [
      "\n",
      "0: 384x640 1 face, 128.3ms\n",
      "Speed: 4.0ms preprocess, 128.3ms inference, 0.7ms postprocess per image at shape (1, 3, 384, 640)\n",
      "[[547.21728515625, 106.11264038085938, 743.463134765625, 368.1576232910156]]\n"
     ]
    }
   ],
   "source": [
    "img = cv2.imread(\"reference2.jpg\")\n",
    "\n",
    "results = model.predict(img, conf=0.4)\n",
    "\n",
    "results = results[0]\n",
    "\n",
    "bboxes = face_detection(results)\n",
    "print(bboxes)\n",
    "for box in bboxes:\n",
    "    x1, y1, x2, y2 = box[0], box[1], box[2], box[3]\n",
    "    face = img[int(y1):int(y2), int(x1):int(x2)]\n",
    "    emb2 = get_embeddings(face)"
   ]
  },
  {
   "cell_type": "code",
   "execution_count": 6,
   "metadata": {},
   "outputs": [
    {
     "name": "stdout",
     "output_type": "stream",
     "text": [
      "False\n"
     ]
    }
   ],
   "source": [
    "print(compare_embeddings(emb, emb2))"
   ]
  }
 ],
 "metadata": {
  "kernelspec": {
   "display_name": "Python 3",
   "language": "python",
   "name": "python3"
  },
  "language_info": {
   "codemirror_mode": {
    "name": "ipython",
    "version": 3
   },
   "file_extension": ".py",
   "mimetype": "text/x-python",
   "name": "python",
   "nbconvert_exporter": "python",
   "pygments_lexer": "ipython3",
   "version": "3.10.14"
  }
 },
 "nbformat": 4,
 "nbformat_minor": 2
}
